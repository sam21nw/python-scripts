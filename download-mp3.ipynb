{
 "cells": [
  {
   "cell_type": "code",
   "execution_count": 2,
   "metadata": {},
   "outputs": [
    {
     "ename": "FeatureNotFound",
     "evalue": "Couldn't find a tree builder with the features you requested: html5lib. Do you need to install a parser library?",
     "output_type": "error",
     "traceback": [
      "\u001b[1;31m---------------------------------------------------------------------------\u001b[0m",
      "\u001b[1;31mFeatureNotFound\u001b[0m                           Traceback (most recent call last)",
      "Cell \u001b[1;32mIn[2], line 63\u001b[0m\n\u001b[0;32m     57\u001b[0m \t\u001b[38;5;28;01mreturn\u001b[39;00m\n\u001b[0;32m     60\u001b[0m \u001b[38;5;28;01mif\u001b[39;00m \u001b[38;5;18m__name__\u001b[39m \u001b[38;5;241m==\u001b[39m \u001b[38;5;124m\"\u001b[39m\u001b[38;5;124m__main__\u001b[39m\u001b[38;5;124m\"\u001b[39m:\n\u001b[0;32m     61\u001b[0m \n\u001b[0;32m     62\u001b[0m \t\u001b[38;5;66;03m# getting all video links\u001b[39;00m\n\u001b[1;32m---> 63\u001b[0m \tvideo_links \u001b[38;5;241m=\u001b[39m \u001b[43mget_video_links\u001b[49m\u001b[43m(\u001b[49m\u001b[43m)\u001b[49m\n\u001b[0;32m     65\u001b[0m \t\u001b[38;5;66;03m# download all videos\u001b[39;00m\n\u001b[0;32m     66\u001b[0m \tdownload_video_series(video_links)\n",
      "Cell \u001b[1;32mIn[2], line 21\u001b[0m, in \u001b[0;36mget_video_links\u001b[1;34m()\u001b[0m\n\u001b[0;32m     18\u001b[0m r \u001b[38;5;241m=\u001b[39m requests\u001b[38;5;241m.\u001b[39mget(archive_url)\n\u001b[0;32m     20\u001b[0m \u001b[38;5;66;03m# create beautiful-soup object\u001b[39;00m\n\u001b[1;32m---> 21\u001b[0m soup \u001b[38;5;241m=\u001b[39m \u001b[43mBeautifulSoup\u001b[49m\u001b[43m(\u001b[49m\u001b[43mr\u001b[49m\u001b[38;5;241;43m.\u001b[39;49m\u001b[43mcontent\u001b[49m\u001b[43m,\u001b[49m\u001b[38;5;124;43m'\u001b[39;49m\u001b[38;5;124;43mhtml5lib\u001b[39;49m\u001b[38;5;124;43m'\u001b[39;49m\u001b[43m)\u001b[49m\n\u001b[0;32m     23\u001b[0m \u001b[38;5;66;03m# find all links on web-page\u001b[39;00m\n\u001b[0;32m     24\u001b[0m links \u001b[38;5;241m=\u001b[39m soup\u001b[38;5;241m.\u001b[39mfindAll(\u001b[38;5;124m'\u001b[39m\u001b[38;5;124ma\u001b[39m\u001b[38;5;124m'\u001b[39m)\n",
      "File \u001b[1;32mc:\\Program Files\\Python311\\Lib\\site-packages\\bs4\\__init__.py:248\u001b[0m, in \u001b[0;36mBeautifulSoup.__init__\u001b[1;34m(self, markup, features, builder, parse_only, from_encoding, exclude_encodings, element_classes, **kwargs)\u001b[0m\n\u001b[0;32m    246\u001b[0m     builder_class \u001b[39m=\u001b[39m builder_registry\u001b[39m.\u001b[39mlookup(\u001b[39m*\u001b[39mfeatures)\n\u001b[0;32m    247\u001b[0m     \u001b[39mif\u001b[39;00m builder_class \u001b[39mis\u001b[39;00m \u001b[39mNone\u001b[39;00m:\n\u001b[1;32m--> 248\u001b[0m         \u001b[39mraise\u001b[39;00m FeatureNotFound(\n\u001b[0;32m    249\u001b[0m             \u001b[39m\"\u001b[39m\u001b[39mCouldn\u001b[39m\u001b[39m'\u001b[39m\u001b[39mt find a tree builder with the features you \u001b[39m\u001b[39m\"\u001b[39m\n\u001b[0;32m    250\u001b[0m             \u001b[39m\"\u001b[39m\u001b[39mrequested: \u001b[39m\u001b[39m%s\u001b[39;00m\u001b[39m. Do you need to install a parser library?\u001b[39m\u001b[39m\"\u001b[39m\n\u001b[0;32m    251\u001b[0m             \u001b[39m%\u001b[39m \u001b[39m\"\u001b[39m\u001b[39m,\u001b[39m\u001b[39m\"\u001b[39m\u001b[39m.\u001b[39mjoin(features))\n\u001b[0;32m    253\u001b[0m \u001b[39m# At this point either we have a TreeBuilder instance in\u001b[39;00m\n\u001b[0;32m    254\u001b[0m \u001b[39m# builder, or we have a builder_class that we can instantiate\u001b[39;00m\n\u001b[0;32m    255\u001b[0m \u001b[39m# with the remaining **kwargs.\u001b[39;00m\n\u001b[0;32m    256\u001b[0m \u001b[39mif\u001b[39;00m builder \u001b[39mis\u001b[39;00m \u001b[39mNone\u001b[39;00m:\n",
      "\u001b[1;31mFeatureNotFound\u001b[0m: Couldn't find a tree builder with the features you requested: html5lib. Do you need to install a parser library?"
     ]
    }
   ],
   "source": [
    "import requests\n",
    "from bs4 import BeautifulSoup\n",
    "\n",
    "'''\n",
    "URL of the archive web-page which provides link to\n",
    "all video lectures. It would have been tiring to\n",
    "download each video manually.\n",
    "In this example, we first crawl the webpage to extract\n",
    "all the links and then download videos.\n",
    "'''\n",
    "\n",
    "# specify the URL of the archive here\n",
    "archive_url = \"https://pavei.cappelendamm.no/binfil/\"\n",
    "\n",
    "def get_video_links():\n",
    "\t\n",
    "\t# create response object\n",
    "\tr = requests.get(archive_url)\n",
    "\t\n",
    "\t# create beautiful-soup object\n",
    "\tsoup = BeautifulSoup(r.content,'html5lib')\n",
    "\t\n",
    "\t# find all links on web-page\n",
    "\tlinks = soup.findAll('a')\n",
    "\n",
    "\t# filter the link sending with .mp4\n",
    "\tvideo_links = [archive_url + link['href'] for link in links if link['href'].endswith('mp4')]\n",
    "\n",
    "\treturn video_links\n",
    "\n",
    "\n",
    "def download_video_series(video_links):\n",
    "\n",
    "\tfor link in video_links:\n",
    "\n",
    "\t\t'''iterate through all links in video_links\n",
    "\t\tand download them one by one'''\n",
    "\n",
    "\t\t# obtain filename by splitting url and getting\n",
    "\t\t# last string\n",
    "\t\tfile_name = link.split('/')[-1]\n",
    "\n",
    "\t\tprint(f\"Downloading file:{file_name}\")\n",
    "\n",
    "\t\t# create response object\n",
    "\t\tr = requests.get(link, stream = True)\n",
    "\n",
    "\t\t# download started\n",
    "\t\twith open(file_name, 'wb') as f:\n",
    "\t\t\tfor chunk in r.iter_content(chunk_size = 1024*1024):\n",
    "\t\t\t\tif chunk:\n",
    "\t\t\t\t\tf.write(chunk)\n",
    "\n",
    "\t\tprint( \"%s downloaded!\\n\"%file_name )\n",
    "\n",
    "\tprint (\"All videos downloaded!\")\n",
    "\treturn\n",
    "\n",
    "\n",
    "if __name__ == \"__main__\":\n",
    "\n",
    "\t# getting all video links\n",
    "\tvideo_links = get_video_links()\n",
    "\n",
    "\t# download all videos\n",
    "\tdownload_video_series(video_links)\n",
    "\t\n"
   ]
  }
 ],
 "metadata": {
  "kernelspec": {
   "display_name": "Python 3.11.1 64-bit",
   "language": "python",
   "name": "python3"
  },
  "language_info": {
   "codemirror_mode": {
    "name": "ipython",
    "version": 3
   },
   "file_extension": ".py",
   "mimetype": "text/x-python",
   "name": "python",
   "nbconvert_exporter": "python",
   "pygments_lexer": "ipython3",
   "version": "3.11.1"
  },
  "orig_nbformat": 4,
  "vscode": {
   "interpreter": {
    "hash": "5238573367df39f7286bb46f9ff5f08f63a01a80960060ce41e3c79b190280fa"
   }
  }
 },
 "nbformat": 4,
 "nbformat_minor": 2
}
