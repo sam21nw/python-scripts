{
 "cells": [
  {
   "cell_type": "code",
   "execution_count": 3,
   "metadata": {},
   "outputs": [
    {
     "name": "stdout",
     "output_type": "stream",
     "text": [
      "https://www.youtube.com/watch?v=rNHilFdCrEs\n"
     ]
    },
    {
     "ename": "PytubeError",
     "evalue": "Exception while accessing title of https://youtube.com/watch?v=rNHilFdCrEs. Please file a bug report at https://github.com/pytube/pytube",
     "output_type": "error",
     "traceback": [
      "\u001b[1;31m---------------------------------------------------------------------------\u001b[0m",
      "\u001b[1;31mKeyError\u001b[0m                                  Traceback (most recent call last)",
      "File \u001b[1;32mc:\\Program Files\\Python311\\Lib\\site-packages\\pytube\\__main__.py:341\u001b[0m, in \u001b[0;36mYouTube.title\u001b[1;34m(self)\u001b[0m\n\u001b[0;32m    340\u001b[0m \u001b[39mtry\u001b[39;00m:\n\u001b[1;32m--> 341\u001b[0m     \u001b[39mself\u001b[39m\u001b[39m.\u001b[39m_title \u001b[39m=\u001b[39m \u001b[39mself\u001b[39;49m\u001b[39m.\u001b[39;49mvid_info[\u001b[39m'\u001b[39;49m\u001b[39mvideoDetails\u001b[39;49m\u001b[39m'\u001b[39;49m][\u001b[39m'\u001b[39m\u001b[39mtitle\u001b[39m\u001b[39m'\u001b[39m]\n\u001b[0;32m    342\u001b[0m \u001b[39mexcept\u001b[39;00m \u001b[39mKeyError\u001b[39;00m:\n\u001b[0;32m    343\u001b[0m     \u001b[39m# Check_availability will raise the correct exception in most cases\u001b[39;00m\n\u001b[0;32m    344\u001b[0m     \u001b[39m#  if it doesn't, ask for a report.\u001b[39;00m\n",
      "\u001b[1;31mKeyError\u001b[0m: 'videoDetails'",
      "\nDuring handling of the above exception, another exception occurred:\n",
      "\u001b[1;31mPytubeError\u001b[0m                               Traceback (most recent call last)",
      "Cell \u001b[1;32mIn[3], line 25\u001b[0m\n\u001b[0;32m     23\u001b[0m \u001b[39mprint\u001b[39m(line\u001b[39m.\u001b[39mstrip())\n\u001b[0;32m     24\u001b[0m yt \u001b[39m=\u001b[39m YouTube(line)\n\u001b[1;32m---> 25\u001b[0m \u001b[39mprint\u001b[39m(yt\u001b[39m.\u001b[39;49mtitle)\n\u001b[0;32m     26\u001b[0m stream \u001b[39m=\u001b[39m yt\u001b[39m.\u001b[39mstreams\u001b[39m.\u001b[39mget_by_itag(\u001b[39m22\u001b[39m)\n\u001b[0;32m     27\u001b[0m stream\u001b[39m.\u001b[39mdownload()\n",
      "File \u001b[1;32mc:\\Program Files\\Python311\\Lib\\site-packages\\pytube\\__main__.py:346\u001b[0m, in \u001b[0;36mYouTube.title\u001b[1;34m(self)\u001b[0m\n\u001b[0;32m    342\u001b[0m \u001b[39mexcept\u001b[39;00m \u001b[39mKeyError\u001b[39;00m:\n\u001b[0;32m    343\u001b[0m     \u001b[39m# Check_availability will raise the correct exception in most cases\u001b[39;00m\n\u001b[0;32m    344\u001b[0m     \u001b[39m#  if it doesn't, ask for a report.\u001b[39;00m\n\u001b[0;32m    345\u001b[0m     \u001b[39mself\u001b[39m\u001b[39m.\u001b[39mcheck_availability()\n\u001b[1;32m--> 346\u001b[0m     \u001b[39mraise\u001b[39;00m exceptions\u001b[39m.\u001b[39mPytubeError(\n\u001b[0;32m    347\u001b[0m         (\n\u001b[0;32m    348\u001b[0m             \u001b[39mf\u001b[39m\u001b[39m'\u001b[39m\u001b[39mException while accessing title of \u001b[39m\u001b[39m{\u001b[39;00m\u001b[39mself\u001b[39m\u001b[39m.\u001b[39mwatch_url\u001b[39m}\u001b[39;00m\u001b[39m. \u001b[39m\u001b[39m'\u001b[39m\n\u001b[0;32m    349\u001b[0m             \u001b[39m'\u001b[39m\u001b[39mPlease file a bug report at https://github.com/pytube/pytube\u001b[39m\u001b[39m'\u001b[39m\n\u001b[0;32m    350\u001b[0m         )\n\u001b[0;32m    351\u001b[0m     )\n\u001b[0;32m    353\u001b[0m \u001b[39mreturn\u001b[39;00m \u001b[39mself\u001b[39m\u001b[39m.\u001b[39m_title\n",
      "\u001b[1;31mPytubeError\u001b[0m: Exception while accessing title of https://youtube.com/watch?v=rNHilFdCrEs. Please file a bug report at https://github.com/pytube/pytube"
     ]
    }
   ],
   "source": [
    "# Download Youtube video as mp4 file\n",
    "from pytube import YouTube\n",
    "from pytube import Playlist\n",
    "# from pathlib import Path\n",
    "\n",
    "\n",
    "# p = Playlist(\n",
    "# 'https://www.youtube.com/watch?v=qZ6TJc5bSKU&list=PLp_fYzTMUTz4a1kmkWqxBgB63t2MNfI7f')\n",
    "\n",
    "# for url in p.video_urls[1:5]:\n",
    "#     print(url)\n",
    "\n",
    "# for video in p.videos[-1:]:\n",
    "#     print(f'Downloading: {video.title}')\n",
    "#     video.streams.get_by_itag(22).download()\n",
    "\n",
    "# Download one video from a playlist\n",
    "with open('yt-video-links.txt') as f:\n",
    "    while True:\n",
    "        line = f.readline()\n",
    "        if not line:\n",
    "            break\n",
    "        print(line.strip())\n",
    "        yt = YouTube(line)\n",
    "        print(yt.title)\n",
    "        stream = yt.streams.get_by_itag(22)\n",
    "        stream.download()\n"
   ]
  },
  {
   "cell_type": "code",
   "execution_count": 3,
   "metadata": {},
   "outputs": [
    {
     "name": "stdout",
     "output_type": "stream",
     "text": [
      "It Begins In Bethlehem - Bob Hartmans Rhyming Bible Songs - Lyric Video.mp4\n",
      "Conversion to mp3 completed..\n",
      "Love So Great - Hillsong Worship.mp4\n",
      "Conversion to mp3 completed..\n"
     ]
    }
   ],
   "source": [
    "import subprocess\n",
    "import os\n",
    "\n",
    "\n",
    "def convert_video_to_audio_ffmpeg(video_file, output_ext=\"mp3\"):\n",
    "    \"\"\"Converts video to audio directly using `ffmpeg` command\n",
    "    with the help of subprocess module\"\"\"\n",
    "    filename, ext = os.path.splitext(video_file)\n",
    "    subprocess.call([\"ffmpeg\", \"-y\", \"-i\", video_file, f\"{filename}.{output_ext}\"],\n",
    "                    stdout=subprocess.DEVNULL,\n",
    "                    stderr=subprocess.STDOUT)\n",
    "\n",
    "\n",
    "# Convert webm files to mp3\n",
    "for file in os.listdir(\".\"):\n",
    "    if file.endswith(\".mp4\"):\n",
    "        print(file)\n",
    "        convert_video_to_audio_ffmpeg(file)\n",
    "        print(\"Conversion to mp3 completed..\")\n"
   ]
  },
  {
   "cell_type": "code",
   "execution_count": null,
   "metadata": {},
   "outputs": [],
   "source": [
    "# Download subtitles\n",
    "yt = YouTube('https://youtu.be/o5r4rMyDJbo')\n",
    "yt.captions\n",
    "\n",
    "# caption = yt.captions.get_by_language_code('en')\n",
    "# print(caption.generate_srt_captions())\n",
    "caption = yt.captions['a.en']\n",
    "\n",
    "xml_caption = caption.xml_captions\n",
    "\n",
    "xml_caption\n",
    "\n",
    "print(yt.captions.generate_srt_captions())\n"
   ]
  }
 ],
 "metadata": {
  "kernelspec": {
   "display_name": "Python 3.11.0 64-bit",
   "language": "python",
   "name": "python3"
  },
  "language_info": {
   "codemirror_mode": {
    "name": "ipython",
    "version": 3
   },
   "file_extension": ".py",
   "mimetype": "text/x-python",
   "name": "python",
   "nbconvert_exporter": "python",
   "pygments_lexer": "ipython3",
   "version": "3.11.4"
  },
  "orig_nbformat": 4,
  "vscode": {
   "interpreter": {
    "hash": "5238573367df39f7286bb46f9ff5f08f63a01a80960060ce41e3c79b190280fa"
   }
  }
 },
 "nbformat": 4,
 "nbformat_minor": 2
}
