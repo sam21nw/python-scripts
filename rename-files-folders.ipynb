{
 "cells": [
  {
   "cell_type": "code",
   "execution_count": 1,
   "metadata": {},
   "outputs": [
    {
     "data": {
      "text/plain": [
       "['eml.xlsx', 'sample_bom.xls']"
      ]
     },
     "execution_count": 1,
     "metadata": {},
     "output_type": "execute_result"
    }
   ],
   "source": [
    "import os\n",
    "folder = r'./test_folder'\n",
    "list = os.listdir(folder)\n",
    "list"
   ]
  },
  {
   "cell_type": "code",
   "execution_count": 4,
   "metadata": {},
   "outputs": [
    {
     "ename": "FileNotFoundError",
     "evalue": "[WinError 2] The system cannot find the file specified: \"./test_folder/(0, 'eml.xlsx')\" -> \"./test_folder/(0, 'sample_eml.xlsx')\"",
     "output_type": "error",
     "traceback": [
      "\u001b[1;31m---------------------------------------------------------------------------\u001b[0m",
      "\u001b[1;31mFileNotFoundError\u001b[0m                         Traceback (most recent call last)",
      "\u001b[1;32md:\\sam_working\\Settings\\python-scripts\\rename-files-folders.ipynb Cell 2'\u001b[0m in \u001b[0;36m<cell line: 2>\u001b[1;34m()\u001b[0m\n\u001b[0;32m      <a href='vscode-notebook-cell:/d%3A/sam_working/Settings/python-scripts/rename-files-folders.ipynb#ch0000001?line=7'>8</a>\u001b[0m dst \u001b[39m=\u001b[39m \u001b[39mf\u001b[39m\u001b[39m\"\u001b[39m\u001b[39m{\u001b[39;00mfolder\u001b[39m}\u001b[39;00m\u001b[39m/\u001b[39m\u001b[39m{\u001b[39;00mnew_filename\u001b[39m}\u001b[39;00m\u001b[39m\"\u001b[39m\n\u001b[0;32m     <a href='vscode-notebook-cell:/d%3A/sam_working/Settings/python-scripts/rename-files-folders.ipynb#ch0000001?line=9'>10</a>\u001b[0m \u001b[39m# rename() function will\u001b[39;00m\n\u001b[0;32m     <a href='vscode-notebook-cell:/d%3A/sam_working/Settings/python-scripts/rename-files-folders.ipynb#ch0000001?line=10'>11</a>\u001b[0m \u001b[39m# rename all the files\u001b[39;00m\n\u001b[1;32m---> <a href='vscode-notebook-cell:/d%3A/sam_working/Settings/python-scripts/rename-files-folders.ipynb#ch0000001?line=11'>12</a>\u001b[0m os\u001b[39m.\u001b[39;49mrename(src, dst)\n",
      "\u001b[1;31mFileNotFoundError\u001b[0m: [WinError 2] The system cannot find the file specified: \"./test_folder/(0, 'eml.xlsx')\" -> \"./test_folder/(0, 'sample_eml.xlsx')\""
     ]
    }
   ],
   "source": [
    "# Rename files in directory\n",
    "for filename in enumerate(os.listdir(folder)):\n",
    "    # foldername/filename, if .py file is outside folder\n",
    "    src = f\"{folder}/{filename}\"\n",
    "\n",
    "    new_filename = str(filename).replace('eml.xlsx', 'sample_eml.xlsx')\n",
    "\n",
    "    dst = f\"{folder}/{new_filename}\"\n",
    "\n",
    "    # rename() function will\n",
    "    # rename all the files\n",
    "    os.rename(src, dst)\n"
   ]
  },
  {
   "cell_type": "code",
   "execution_count": 24,
   "metadata": {},
   "outputs": [],
   "source": [
    "# Remove folder recursively\n",
    "import shutil\n",
    "shutil.rmtree(f'{folder}/check_folder')"
   ]
  }
 ],
 "metadata": {
  "interpreter": {
   "hash": "1395260a628bb2e8f0b015dbc7802c59b50ed4ee5ad9cd14c65ca010a7371faf"
  },
  "kernelspec": {
   "display_name": "Python 3.10.4 64-bit",
   "language": "python",
   "name": "python3"
  },
  "language_info": {
   "codemirror_mode": {
    "name": "ipython",
    "version": 3
   },
   "file_extension": ".py",
   "mimetype": "text/x-python",
   "name": "python",
   "nbconvert_exporter": "python",
   "pygments_lexer": "ipython3",
   "version": "3.10.4"
  },
  "orig_nbformat": 4
 },
 "nbformat": 4,
 "nbformat_minor": 2
}
