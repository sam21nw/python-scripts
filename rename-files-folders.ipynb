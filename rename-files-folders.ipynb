{
 "cells": [
  {
   "cell_type": "code",
   "execution_count": 7,
   "metadata": {},
   "outputs": [
    {
     "ename": "FileNotFoundError",
     "evalue": "[WinError 3] The system cannot find the path specified: ''",
     "output_type": "error",
     "traceback": [
      "\u001b[1;31m---------------------------------------------------------------------------\u001b[0m",
      "\u001b[1;31mFileNotFoundError\u001b[0m                         Traceback (most recent call last)",
      "\u001b[1;32me:\\Python\\python-scripts\\rename-files-folders.ipynb Cell 1'\u001b[0m in \u001b[0;36m<cell line: 4>\u001b[1;34m()\u001b[0m\n\u001b[0;32m      <a href='vscode-notebook-cell:/e%3A/Python/python-scripts/rename-files-folders.ipynb#ch0000000?line=1'>2</a>\u001b[0m \u001b[39mfrom\u001b[39;00m \u001b[39mpathlib\u001b[39;00m \u001b[39mimport\u001b[39;00m Path\n\u001b[0;32m      <a href='vscode-notebook-cell:/e%3A/Python/python-scripts/rename-files-folders.ipynb#ch0000000?line=2'>3</a>\u001b[0m folder \u001b[39m=\u001b[39m \u001b[39minput\u001b[39m(\u001b[39m\"\u001b[39m\u001b[39mEnter folder: \u001b[39m\u001b[39m\"\u001b[39m)\n\u001b[1;32m----> <a href='vscode-notebook-cell:/e%3A/Python/python-scripts/rename-files-folders.ipynb#ch0000000?line=3'>4</a>\u001b[0m \u001b[39mlist\u001b[39m \u001b[39m=\u001b[39m os\u001b[39m.\u001b[39;49mlistdir(folder)\n\u001b[0;32m      <a href='vscode-notebook-cell:/e%3A/Python/python-scripts/rename-files-folders.ipynb#ch0000000?line=5'>6</a>\u001b[0m our_files \u001b[39m=\u001b[39m Path(folder)\n\u001b[0;32m      <a href='vscode-notebook-cell:/e%3A/Python/python-scripts/rename-files-folders.ipynb#ch0000000?line=6'>7</a>\u001b[0m \u001b[39mprint\u001b[39m(our_files\u001b[39m.\u001b[39mis_dir())\n",
      "\u001b[1;31mFileNotFoundError\u001b[0m: [WinError 3] The system cannot find the path specified: ''"
     ]
    }
   ],
   "source": [
    "import os\n",
    "from pathlib import Path\n",
    "folder = input(\"Enter folder: \")\n",
    "list = os.listdir(folder)\n",
    "\n",
    "our_files = Path(folder)\n",
    "print(our_files.is_dir())"
   ]
  },
  {
   "cell_type": "code",
   "execution_count": 27,
   "metadata": {},
   "outputs": [],
   "source": [
    "replace_text = input(\"Replace text: \")\n",
    "with_text = input(\"With text: \")\n",
    "\n",
    "# Rename files in directory\n",
    "for filetuple in enumerate(os.listdir(folder)):\n",
    "    # foldername/filename, if .py file is outside folder\n",
    "    _, filename = filetuple\n",
    "\n",
    "    src = f\"{folder}{filename}\"\n",
    "\n",
    "    new_filename = str(filename).replace(replace_text, with_text)\n",
    "\n",
    "    dst = f\"{folder}{new_filename}\"\n",
    "\n",
    "    if src != dst:\n",
    "        print(f'Existing file name: {src}')\n",
    "        print(f'Updated file name: {dst}')\n",
    "\n",
    "    # rename() function will\n",
    "    # rename all the files\n",
    "    os.rename(src, dst)\n"
   ]
  },
  {
   "cell_type": "code",
   "execution_count": 3,
   "metadata": {},
   "outputs": [],
   "source": [
    "# Remove folder recursively\n",
    "import shutil\n",
    "shutil.rmtree(f'{folder}check_folder')"
   ]
  }
 ],
 "metadata": {
  "interpreter": {
   "hash": "1395260a628bb2e8f0b015dbc7802c59b50ed4ee5ad9cd14c65ca010a7371faf"
  },
  "kernelspec": {
   "display_name": "Python 3.10.4 64-bit",
   "language": "python",
   "name": "python3"
  },
  "language_info": {
   "codemirror_mode": {
    "name": "ipython",
    "version": 3
   },
   "file_extension": ".py",
   "mimetype": "text/x-python",
   "name": "python",
   "nbconvert_exporter": "python",
   "pygments_lexer": "ipython3",
   "version": "3.10.4"
  },
  "orig_nbformat": 4
 },
 "nbformat": 4,
 "nbformat_minor": 2
}
