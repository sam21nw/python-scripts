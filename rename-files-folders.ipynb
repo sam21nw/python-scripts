{
 "cells": [
  {
   "cell_type": "code",
   "execution_count": 25,
   "metadata": {},
   "outputs": [
    {
     "data": {
      "text/plain": [
       "['test-1.xlsx', 'test-2.xlsx', 'test-3.xlsx', 'test.txt']"
      ]
     },
     "execution_count": 25,
     "metadata": {},
     "output_type": "execute_result"
    }
   ],
   "source": [
    "import os\n",
    "folder = r'./test_folder'\n",
    "list = os.listdir(folder)\n",
    "list"
   ]
  },
  {
   "cell_type": "code",
   "execution_count": 21,
   "metadata": {},
   "outputs": [],
   "source": [
    "# Rename files in directory\n",
    "for filename in enumerate(os.listdir(folder)):\n",
    "    # foldername/filename, if .py file is outside folder\n",
    "    src = f\"{folder}/{filename}\"\n",
    "\n",
    "    new_filename = filename.replace('pic.txt', 'test.txt')\n",
    "\n",
    "    dst = f\"{folder}/{new_filename}\"\n",
    "\n",
    "    # rename() function will\n",
    "    # rename all the files\n",
    "    os.rename(src, dst)\n"
   ]
  },
  {
   "cell_type": "code",
   "execution_count": 24,
   "metadata": {},
   "outputs": [],
   "source": [
    "# Remove folder recursively\n",
    "import shutil\n",
    "shutil.rmtree(f'{folder}/check_folder')"
   ]
  },
  {
   "cell_type": "code",
   "execution_count": null,
   "metadata": {},
   "outputs": [],
   "source": []
  }
 ],
 "metadata": {
  "interpreter": {
   "hash": "4e1c54cd5d43b9001f44fb42118f75a9101e1dce6f558f6ffa315a3571aa1ab5"
  },
  "kernelspec": {
   "display_name": "Python 3.10.4 64-bit",
   "language": "python",
   "name": "python3"
  },
  "language_info": {
   "codemirror_mode": {
    "name": "ipython",
    "version": 3
   },
   "file_extension": ".py",
   "mimetype": "text/x-python",
   "name": "python",
   "nbconvert_exporter": "python",
   "pygments_lexer": "ipython3",
   "version": "3.10.4"
  },
  "orig_nbformat": 4
 },
 "nbformat": 4,
 "nbformat_minor": 2
}
