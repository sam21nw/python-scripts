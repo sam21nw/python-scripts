{
 "cells": [
  {
   "cell_type": "code",
   "execution_count": 1,
   "metadata": {},
   "outputs": [
    {
     "data": {
      "text/plain": [
       "['bom_sample_gp.xls', 'eml.xlsx', 'example.xls', 'sample_bom.xls']"
      ]
     },
     "execution_count": 1,
     "metadata": {},
     "output_type": "execute_result"
    }
   ],
   "source": [
    "import os\n",
    "folder = r'./test_folder'\n",
    "list = os.listdir(folder)\n",
    "list"
   ]
  },
  {
   "cell_type": "code",
   "execution_count": 16,
   "metadata": {},
   "outputs": [
    {
     "name": "stdout",
     "output_type": "stream",
     "text": [
      "./test_folder/bom_sample_gp.xls\n",
      "bom_sample_gp.xls\n",
      "./test_folder/bom_sample_gp.xls\n",
      "./test_folder/example.xls\n",
      "example.xls\n",
      "./test_folder/example.xls\n",
      "./test_folder/sample_bom.xls\n",
      "sample_bom.xls\n",
      "./test_folder/sample_bom.xls\n",
      "./test_folder/sample_eml.xlsx\n",
      "eml.xlsx\n",
      "./test_folder/eml.xlsx\n"
     ]
    }
   ],
   "source": [
    "# Rename files in directory\n",
    "for filetuple in enumerate(os.listdir(folder)):\n",
    "    # foldername/filename, if .py file is outside folder\n",
    "    i, filename = filetuple\n",
    "\n",
    "    src = f\"{folder}/{filename}\"\n",
    "    print(src)\n",
    "\n",
    "    new_filename = str(filename).replace('sample_eml', 'eml')\n",
    "\n",
    "    print(new_filename)\n",
    "\n",
    "    dst = f\"{folder}/{new_filename}\"\n",
    "\n",
    "    print(dst)\n",
    "\n",
    "    # rename() function will\n",
    "    # rename all the files\n",
    "    os.rename(src, dst)\n"
   ]
  },
  {
   "cell_type": "code",
   "execution_count": 3,
   "metadata": {},
   "outputs": [],
   "source": [
    "# Remove folder recursively\n",
    "import shutil\n",
    "shutil.rmtree(f'{folder}/check_folder')"
   ]
  }
 ],
 "metadata": {
  "interpreter": {
   "hash": "1395260a628bb2e8f0b015dbc7802c59b50ed4ee5ad9cd14c65ca010a7371faf"
  },
  "kernelspec": {
   "display_name": "Python 3.10.4 64-bit",
   "language": "python",
   "name": "python3"
  },
  "language_info": {
   "codemirror_mode": {
    "name": "ipython",
    "version": 3
   },
   "file_extension": ".py",
   "mimetype": "text/x-python",
   "name": "python",
   "nbconvert_exporter": "python",
   "pygments_lexer": "ipython3",
   "version": "3.10.4"
  },
  "orig_nbformat": 4
 },
 "nbformat": 4,
 "nbformat_minor": 2
}
