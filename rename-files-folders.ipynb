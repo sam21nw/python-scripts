{
 "cells": [
  {
   "cell_type": "code",
   "execution_count": 6,
   "metadata": {},
   "outputs": [
    {
     "name": "stdout",
     "output_type": "stream",
     "text": [
      "True\n"
     ]
    }
   ],
   "source": [
    "import os\n",
    "from pathlib import Path\n",
    "folder = input(\"Enter folder: \")\n",
    "list = os.listdir(folder)\n",
    "\n",
    "our_files = Path(folder)\n",
    "print(our_files.is_dir())"
   ]
  },
  {
   "cell_type": "code",
   "execution_count": 27,
   "metadata": {},
   "outputs": [],
   "source": [
    "replace_text = input(\"Replace text: \")\n",
    "with_text = input(\"With text: \")\n",
    "\n",
    "# Rename files in directory\n",
    "for filetuple in enumerate(os.listdir(folder)):\n",
    "    # foldername/filename, if .py file is outside folder\n",
    "    _, filename = filetuple\n",
    "\n",
    "    src = f\"{folder}{filename}\"\n",
    "\n",
    "    new_filename = str(filename).replace(replace_text, with_text)\n",
    "\n",
    "    dst = f\"{folder}{new_filename}\"\n",
    "\n",
    "    if src != dst:\n",
    "        print(f'Existing file name: {src}')\n",
    "        print(f'Updated file name: {dst}')\n",
    "\n",
    "    # rename() function will\n",
    "    # rename all the files\n",
    "    os.rename(src, dst)\n"
   ]
  },
  {
   "cell_type": "code",
   "execution_count": 3,
   "metadata": {},
   "outputs": [],
   "source": [
    "# Remove folder recursively\n",
    "import shutil\n",
    "shutil.rmtree(f'{folder}check_folder')"
   ]
  }
 ],
 "metadata": {
  "interpreter": {
   "hash": "1395260a628bb2e8f0b015dbc7802c59b50ed4ee5ad9cd14c65ca010a7371faf"
  },
  "kernelspec": {
   "display_name": "Python 3.10.4 64-bit",
   "language": "python",
   "name": "python3"
  },
  "language_info": {
   "codemirror_mode": {
    "name": "ipython",
    "version": 3
   },
   "file_extension": ".py",
   "mimetype": "text/x-python",
   "name": "python",
   "nbconvert_exporter": "python",
   "pygments_lexer": "ipython3",
   "version": "3.10.4"
  },
  "orig_nbformat": 4
 },
 "nbformat": 4,
 "nbformat_minor": 2
}
