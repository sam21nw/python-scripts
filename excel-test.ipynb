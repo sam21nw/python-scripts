{
 "cells": [
  {
   "cell_type": "code",
   "execution_count": 34,
   "metadata": {},
   "outputs": [
    {
     "data": {
      "text/plain": [
       "'d:\\\\sam_working\\\\Settings\\\\python-scripts'"
      ]
     },
     "execution_count": 34,
     "metadata": {},
     "output_type": "execute_result"
    }
   ],
   "source": [
    "import os\n",
    "import xlrd\n",
    "from xlutils.filter import XLWTWriter\n",
    "w = XLWTWriter()\n",
    "process(TestReader(('Sheet1', [['R0C0']])), w)\n",
    "\n",
    "os.getcwd()"
   ]
  },
  {
   "cell_type": "code",
   "execution_count": 32,
   "metadata": {},
   "outputs": [
    {
     "ename": "AttributeError",
     "evalue": "module 'xlwt' has no attribute 'open_workbook'",
     "output_type": "error",
     "traceback": [
      "\u001b[1;31m---------------------------------------------------------------------------\u001b[0m",
      "\u001b[1;31mAttributeError\u001b[0m                            Traceback (most recent call last)",
      "\u001b[1;32md:\\sam_working\\Settings\\python-scripts\\excel-test.ipynb Cell 2'\u001b[0m in \u001b[0;36m<cell line: 1>\u001b[1;34m()\u001b[0m\n\u001b[1;32m----> <a href='vscode-notebook-cell:/d%3A/sam_working/Settings/python-scripts/excel-test.ipynb#ch0000002?line=0'>1</a>\u001b[0m wb \u001b[39m=\u001b[39m xlwt\u001b[39m.\u001b[39;49mopen_workbook(\u001b[39m'\u001b[39m\u001b[39mbom_sample_gp.xls\u001b[39m\u001b[39m'\u001b[39m)\n\u001b[0;32m      <a href='vscode-notebook-cell:/d%3A/sam_working/Settings/python-scripts/excel-test.ipynb#ch0000002?line=1'>2</a>\u001b[0m ws \u001b[39m=\u001b[39m wb\u001b[39m.\u001b[39msheet_by_name(\u001b[39m'\u001b[39m\u001b[39mFormat\u001b[39m\u001b[39m'\u001b[39m)\n\u001b[0;32m      <a href='vscode-notebook-cell:/d%3A/sam_working/Settings/python-scripts/excel-test.ipynb#ch0000002?line=3'>4</a>\u001b[0m ws\u001b[39m.\u001b[39mcell(\u001b[39m3\u001b[39m, \u001b[39m31\u001b[39m)\u001b[39m.\u001b[39mvalue\n",
      "\u001b[1;31mAttributeError\u001b[0m: module 'xlwt' has no attribute 'open_workbook'"
     ]
    }
   ],
   "source": [
    "wb = xlwt.open_workbook('bom_sample_gp.xls')\n",
    "ws = wb.sheet_by_name('Format')\n",
    "\n",
    "ws.cell(3, 31).value\n"
   ]
  },
  {
   "cell_type": "code",
   "execution_count": 27,
   "metadata": {},
   "outputs": [
    {
     "ename": "AttributeError",
     "evalue": "'Sheet' object has no attribute 'write'",
     "output_type": "error",
     "traceback": [
      "\u001b[1;31m---------------------------------------------------------------------------\u001b[0m",
      "\u001b[1;31mAttributeError\u001b[0m                            Traceback (most recent call last)",
      "\u001b[1;32md:\\sam_working\\Settings\\python-scripts\\excel-test.ipynb Cell 3'\u001b[0m in \u001b[0;36m<cell line: 1>\u001b[1;34m()\u001b[0m\n\u001b[1;32m----> <a href='vscode-notebook-cell:/d%3A/sam_working/Settings/python-scripts/excel-test.ipynb#ch0000003?line=0'>1</a>\u001b[0m ws\u001b[39m.\u001b[39;49mwrite(\u001b[39m3\u001b[39m, \u001b[39m31\u001b[39m, \u001b[39m'\u001b[39m\u001b[39m232\u001b[39m\u001b[39m'\u001b[39m)\n",
      "\u001b[1;31mAttributeError\u001b[0m: 'Sheet' object has no attribute 'write'"
     ]
    }
   ],
   "source": [
    "\n",
    "ws.write(3, 31, '232')"
   ]
  },
  {
   "cell_type": "code",
   "execution_count": null,
   "metadata": {},
   "outputs": [],
   "source": []
  }
 ],
 "metadata": {
  "interpreter": {
   "hash": "1395260a628bb2e8f0b015dbc7802c59b50ed4ee5ad9cd14c65ca010a7371faf"
  },
  "kernelspec": {
   "display_name": "Python 3.10.4 64-bit",
   "language": "python",
   "name": "python3"
  },
  "language_info": {
   "codemirror_mode": {
    "name": "ipython",
    "version": 3
   },
   "file_extension": ".py",
   "mimetype": "text/x-python",
   "name": "python",
   "nbconvert_exporter": "python",
   "pygments_lexer": "ipython3",
   "version": "3.10.4"
  },
  "orig_nbformat": 4
 },
 "nbformat": 4,
 "nbformat_minor": 2
}
